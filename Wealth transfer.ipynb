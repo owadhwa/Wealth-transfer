{
 "cells": [
  {
   "cell_type": "markdown",
   "id": "90ffcb41",
   "metadata": {},
   "source": [
    "Here, I simulate an agent based model of Wealth transfer. The model explores the distribution of wealth under a trading population of agents. Each agent starts with one unit of wealth. During each timestep, each agent with positive wealth randomly selects a trading partner and gives them one unit of their wealth. This random interaction creates an inequality of wealth that follows a Boltzmann distribution.  \n",
    "The Gini coefficient measures wealth inequality between the agents."
   ]
  },
  {
   "cell_type": "code",
   "execution_count": 1,
   "id": "fa06ef4d",
   "metadata": {},
   "outputs": [],
   "source": [
    "import agentpy as ap\n",
    "import numpy as np\n",
    "import seaborn as sns"
   ]
  },
  {
   "cell_type": "code",
   "execution_count": 2,
   "id": "6a1eade8",
   "metadata": {},
   "outputs": [],
   "source": [
    "class WealthAgent(ap.Agent):\n",
    "    \"\"\"\n",
    "    An agent with wealth\n",
    "    \"\"\"\n",
    "    \n",
    "    def setup(self):\n",
    "        \n",
    "        self.wealth = 1\n",
    "        \n",
    "    def wealth_transfer(self):\n",
    "        \n",
    "        if self.wealth > 0:\n",
    "            \n",
    "            partner = self.model.agents.random()\n",
    "            partner.wealth += 1\n",
    "            self.wealth -= 1\n",
    "            "
   ]
  },
  {
   "cell_type": "code",
   "execution_count": 11,
   "id": "c657fab9",
   "metadata": {},
   "outputs": [],
   "source": [
    "def gini(x):\n",
    "    \"\"\"\n",
    "    Calculate Gini coefficient\n",
    "    \"\"\"\n",
    "    x = np.array(x)\n",
    "    mad = np.abs(np.subtract.outer(x,x)).mean()   #Mean absolute difference\n",
    "    rmad = mad / np.mean(x)                        #Relative mean absolute difference\n",
    "    return 0.5 * rmad"
   ]
  },
  {
   "cell_type": "code",
   "execution_count": 12,
   "id": "77752e8a",
   "metadata": {},
   "outputs": [],
   "source": [
    "class WealthModel(ap.Model):\n",
    "    \"\"\"\n",
    "    A simple model of random wealth transfers\n",
    "    \"\"\"\n",
    "    \n",
    "    def setup(self):\n",
    "        \n",
    "        self.agents = ap.AgentList(self, self.p.agents, WealthAgent)\n",
    "        \n",
    "    def step(self):\n",
    "        \n",
    "        self.agents.wealth_transfer()\n",
    "        \n",
    "    def update(self):\n",
    "        \n",
    "        self.record(\"Gini Coefficient\", gini(self.agents.wealth))\n",
    "        \n",
    "    def end(self):\n",
    "        \n",
    "        self.agents.record(\"wealth\")"
   ]
  },
  {
   "cell_type": "markdown",
   "id": "916dd1a7",
   "metadata": {},
   "source": [
    "**Simulation run**"
   ]
  },
  {
   "cell_type": "code",
   "execution_count": 13,
   "id": "b8767ce2",
   "metadata": {},
   "outputs": [],
   "source": [
    "parameters = {\n",
    "    \"agents\": 100,\n",
    "    \"steps\": 100,\n",
    "    \"seed\": 42\n",
    "}"
   ]
  },
  {
   "cell_type": "code",
   "execution_count": 14,
   "id": "285fadd6",
   "metadata": {},
   "outputs": [
    {
     "name": "stdout",
     "output_type": "stream",
     "text": [
      "\r",
      "Completed: 1 steps\r",
      "Completed: 2 steps\r",
      "Completed: 3 steps\r",
      "Completed: 4 steps\r",
      "Completed: 5 steps\r",
      "Completed: 6 steps\r",
      "Completed: 7 steps\r",
      "Completed: 8 steps\r",
      "Completed: 9 steps\r",
      "Completed: 10 steps\r",
      "Completed: 11 steps\r",
      "Completed: 12 steps\r",
      "Completed: 13 steps\r",
      "Completed: 14 steps\r",
      "Completed: 15 steps\r",
      "Completed: 16 steps\r",
      "Completed: 17 steps\r",
      "Completed: 18 steps\r",
      "Completed: 19 steps\r",
      "Completed: 20 steps\r",
      "Completed: 21 steps\r",
      "Completed: 22 steps\r",
      "Completed: 23 steps\r",
      "Completed: 24 steps\r",
      "Completed: 25 steps\r",
      "Completed: 26 steps\r",
      "Completed: 27 steps\r",
      "Completed: 28 steps\r",
      "Completed: 29 steps\r",
      "Completed: 30 steps\r",
      "Completed: 31 steps\r",
      "Completed: 32 steps\r",
      "Completed: 33 steps\r",
      "Completed: 34 steps\r",
      "Completed: 35 steps\r",
      "Completed: 36 steps\r",
      "Completed: 37 steps\r",
      "Completed: 38 steps\r",
      "Completed: 39 steps\r",
      "Completed: 40 steps\r",
      "Completed: 41 steps\r",
      "Completed: 42 steps\r",
      "Completed: 43 steps\r",
      "Completed: 44 steps\r",
      "Completed: 45 steps\r",
      "Completed: 46 steps\r",
      "Completed: 47 steps\r",
      "Completed: 48 steps\r",
      "Completed: 49 steps\r",
      "Completed: 50 steps\r",
      "Completed: 51 steps\r",
      "Completed: 52 steps\r",
      "Completed: 53 steps\r",
      "Completed: 54 steps\r",
      "Completed: 55 steps\r",
      "Completed: 56 steps\r",
      "Completed: 57 steps\r",
      "Completed: 58 steps\r",
      "Completed: 59 steps\r",
      "Completed: 60 steps\r",
      "Completed: 61 steps\r",
      "Completed: 62 steps\r",
      "Completed: 63 steps\r",
      "Completed: 64 steps\r",
      "Completed: 65 steps\r",
      "Completed: 66 steps\r",
      "Completed: 67 steps\r",
      "Completed: 68 steps\r",
      "Completed: 69 steps\r",
      "Completed: 70 steps\r",
      "Completed: 71 steps\r",
      "Completed: 72 steps\r",
      "Completed: 73 steps\r",
      "Completed: 74 steps\r",
      "Completed: 75 steps\r",
      "Completed: 76 steps\r",
      "Completed: 77 steps\r",
      "Completed: 78 steps\r",
      "Completed: 79 steps\r",
      "Completed: 80 steps\r",
      "Completed: 81 steps\r",
      "Completed: 82 steps\r",
      "Completed: 83 steps\r",
      "Completed: 84 steps\r",
      "Completed: 85 steps\r",
      "Completed: 86 steps\r",
      "Completed: 87 steps\r",
      "Completed: 88 steps\r",
      "Completed: 89 steps\r",
      "Completed: 90 steps\r",
      "Completed: 91 steps\r",
      "Completed: 92 steps\r",
      "Completed: 93 steps\r",
      "Completed: 94 steps\r",
      "Completed: 95 steps\r",
      "Completed: 96 steps\r",
      "Completed: 97 steps\r",
      "Completed: 98 steps\r",
      "Completed: 99 steps\r",
      "Completed: 100 steps\n",
      "Run time: 0:00:00.069052\n",
      "Simulation finished\n"
     ]
    }
   ],
   "source": [
    "model = WealthModel(parameters)\n",
    "results = model.run()"
   ]
  },
  {
   "cell_type": "markdown",
   "id": "7bd18b3f",
   "metadata": {},
   "source": [
    "**Output analysis**"
   ]
  },
  {
   "cell_type": "code",
   "execution_count": 15,
   "id": "ed42a4c2",
   "metadata": {},
   "outputs": [
    {
     "data": {
      "text/plain": [
       "DataDict {\n",
       "'info': Dictionary with 9 keys\n",
       "'parameters': \n",
       "    'constants': Dictionary with 3 keys\n",
       "'variables': \n",
       "    'WealthModel': DataFrame with 1 variable and 101 rows\n",
       "    'WealthAgent': DataFrame with 1 variable and 100 rows\n",
       "'reporters': DataFrame with 1 variable and 1 row\n",
       "}"
      ]
     },
     "execution_count": 15,
     "metadata": {},
     "output_type": "execute_result"
    }
   ],
   "source": [
    "results"
   ]
  },
  {
   "cell_type": "code",
   "execution_count": 16,
   "id": "c47e2172",
   "metadata": {},
   "outputs": [
    {
     "data": {
      "text/plain": [
       "{'model_type': 'WealthModel',\n",
       " 'time_stamp': '2022-09-21 22:44:17',\n",
       " 'agentpy_version': '0.1.5',\n",
       " 'python_version': '3.9.1',\n",
       " 'experiment': False,\n",
       " 'completed': True,\n",
       " 'created_objects': 100,\n",
       " 'completed_steps': 100,\n",
       " 'run_time': '0:00:00.069052'}"
      ]
     },
     "execution_count": 16,
     "metadata": {},
     "output_type": "execute_result"
    }
   ],
   "source": [
    "results.info"
   ]
  },
  {
   "cell_type": "code",
   "execution_count": 17,
   "id": "ea4f7cbd",
   "metadata": {},
   "outputs": [
    {
     "data": {
      "text/html": [
       "<div>\n",
       "<style scoped>\n",
       "    .dataframe tbody tr th:only-of-type {\n",
       "        vertical-align: middle;\n",
       "    }\n",
       "\n",
       "    .dataframe tbody tr th {\n",
       "        vertical-align: top;\n",
       "    }\n",
       "\n",
       "    .dataframe thead th {\n",
       "        text-align: right;\n",
       "    }\n",
       "</style>\n",
       "<table border=\"1\" class=\"dataframe\">\n",
       "  <thead>\n",
       "    <tr style=\"text-align: right;\">\n",
       "      <th></th>\n",
       "      <th>Gini Coefficient</th>\n",
       "    </tr>\n",
       "    <tr>\n",
       "      <th>t</th>\n",
       "      <th></th>\n",
       "    </tr>\n",
       "  </thead>\n",
       "  <tbody>\n",
       "    <tr>\n",
       "      <th>0</th>\n",
       "      <td>0.0000</td>\n",
       "    </tr>\n",
       "    <tr>\n",
       "      <th>1</th>\n",
       "      <td>0.5370</td>\n",
       "    </tr>\n",
       "    <tr>\n",
       "      <th>2</th>\n",
       "      <td>0.5690</td>\n",
       "    </tr>\n",
       "    <tr>\n",
       "      <th>3</th>\n",
       "      <td>0.5614</td>\n",
       "    </tr>\n",
       "    <tr>\n",
       "      <th>4</th>\n",
       "      <td>0.5794</td>\n",
       "    </tr>\n",
       "  </tbody>\n",
       "</table>\n",
       "</div>"
      ],
      "text/plain": [
       "   Gini Coefficient\n",
       "t                  \n",
       "0            0.0000\n",
       "1            0.5370\n",
       "2            0.5690\n",
       "3            0.5614\n",
       "4            0.5794"
      ]
     },
     "execution_count": 17,
     "metadata": {},
     "output_type": "execute_result"
    }
   ],
   "source": [
    "results.variables.WealthModel.head()"
   ]
  },
  {
   "cell_type": "code",
   "execution_count": 18,
   "id": "2e8d89b5",
   "metadata": {},
   "outputs": [
    {
     "data": {
      "image/png": "[encoded data removed]",
      "text/plain": [
       "<Figure size 432x288 with 1 Axes>"
      ]
     },
     "metadata": {
      "needs_background": "light"
     },
     "output_type": "display_data"
    }
   ],
   "source": [
    "data = results.variables.WealthModel\n",
    "ax = data.plot()"
   ]
  },
  {
   "cell_type": "code",
   "execution_count": 19,
   "id": "11ca606b",
   "metadata": {},
   "outputs": [
    {
     "data": {
      "text/plain": [
       "<AxesSubplot:ylabel='Count'>"
      ]
     },
     "execution_count": 19,
     "metadata": {},
     "output_type": "execute_result"
    },
    {
     "data": {
      "image/png": "[encoded data removed]",
      "text/plain": [
       "<Figure size 432x288 with 1 Axes>"
      ]
     },
     "metadata": {
      "needs_background": "light"
     },
     "output_type": "display_data"
    }
   ],
   "source": [
    "sns.histplot(data = results.variables.WealthAgent, binwidth = 1)"
   ]
  },
  {
   "cell_type": "markdown",
   "id": "521e3d0c",
   "metadata": {},
   "source": [
    "The result resembles a Boltzmann distribution. "
   ]
  },
  {
   "cell_type": "code",
   "execution_count": null,
   "id": "aac6be83",
   "metadata": {},
   "outputs": [],
   "source": []
  }
 ],
 "metadata": {
  "kernelspec": {
   "display_name": "Python 3 (ipykernel)",
   "language": "python",
   "name": "python3"
  },
  "language_info": {
   "codemirror_mode": {
    "name": "ipython",
    "version": 3
   },
   "file_extension": ".py",
   "mimetype": "text/x-python",
   "name": "python",
   "nbconvert_exporter": "python",
   "pygments_lexer": "ipython3",
   "version": "3.9.12"
  }
 },
 "nbformat": 4,
 "nbformat_minor": 5
}
